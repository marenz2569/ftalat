{
 "cells": [
  {
   "cell_type": "code",
   "execution_count": null,
   "metadata": {},
   "outputs": [],
   "source": [
    "import pandas as pd\n",
    "import matplotlib.pyplot as plt\n",
    "import os\n",
    "import seaborn as sns\n",
    "from matplotlib.backends.backend_pdf import PdfPages\n",
    "import subprocess\n",
    "import numpy as np\n",
    "import glob"
   ]
  },
  {
   "cell_type": "code",
   "execution_count": null,
   "metadata": {},
   "outputs": [],
   "source": [
    "def savefig(name, **kwargs):\n",
    "    fn = \"{}.pdf\".format(name)\n",
    "    pp = PdfPages(fn)\n",
    "    pp.savefig(dpi=1200, bbox_inches=\"tight\", **kwargs)\n",
    "    pp.close()\n",
    "    print(\"saving and cropping \", fn)\n",
    "    subprocess.run([\"pdfcrop\", fn, fn])"
   ]
  },
  {
   "cell_type": "code",
   "execution_count": null,
   "metadata": {},
   "outputs": [],
   "source": [
    "# us -> MHz\n",
    "reference_frequency_per_time_unit = 2.0E3\n",
    "TRANSITION_LATENCY = \"Transition latency [µs]\"\n",
    "WAIT_LATENCY = \"Time since last frequency switch [µs]\"\n",
    "SOURCE_FREQUENCY = \"Source Frequency [GHz]\"\n",
    "TARGET_FREQUENCY = \"Target Frequency [GHz]\"\n",
    "FREQ_TRANSITION = \"Frequency transition [GHz]\""
   ]
  },
  {
   "cell_type": "code",
   "execution_count": null,
   "metadata": {},
   "outputs": [],
   "source": [
    "folder = \"results/hati\"\n",
    "files_matcher = f\"./{folder}/*.txt\"\n",
    "\n",
    "processed_data = pd.DataFrame()\n",
    "all_data = pd.DataFrame()\n",
    "\n",
    "for file in glob.glob(files_matcher):\n",
    "    frequencies, slug = os.path.basename(file).split('-')\n",
    "    start, target = frequencies.split('_')\n",
    "    start_ghz = int(start) / 1e6\n",
    "    target_ghz = int(target) / 1e6\n",
    "    try:\n",
    "        data = pd.read_csv(file, sep='\\t',comment='#')\n",
    "        print(data)\n",
    "    except:\n",
    "        continue\n",
    "    data=data.rename(columns={\"Change time (with write) [cycles]\": TRANSITION_LATENCY, \"Time since last frequency change request [cycles]\": WAIT_LATENCY})\n",
    "    data[TRANSITION_LATENCY] = data[TRANSITION_LATENCY] / reference_frequency_per_time_unit\n",
    "    data[WAIT_LATENCY] = data[WAIT_LATENCY] / reference_frequency_per_time_unit\n",
    "\n",
    "    # filter invalid measurement values\n",
    "    data=data[data[TRANSITION_LATENCY]>0]\n",
    "\n",
    "    processed_data = pd.concat([processed_data, pd.DataFrame([\n",
    "        {'valids': len(data),\n",
    "         'median': np.median(data[TRANSITION_LATENCY].quantile(0.5)),\n",
    "         '1percentQuantile': data[TRANSITION_LATENCY].quantile(0.01),\n",
    "         '99percentQuantile': data[TRANSITION_LATENCY].quantile(0.99),\n",
    "         SOURCE_FREQUENCY: start_ghz,\n",
    "         TARGET_FREQUENCY: target_ghz}\n",
    "    ])])\n",
    "\n",
    "    data[SOURCE_FREQUENCY] = start_ghz\n",
    "    data[TARGET_FREQUENCY] = target_ghz\n",
    "    data[FREQ_TRANSITION] = f\"{start_ghz}GHz -> {target_ghz}GHz\"\n",
    "    all_data = pd.concat([all_data, data])\n",
    "\n",
    "processed_data"
   ]
  },
  {
   "cell_type": "code",
   "execution_count": null,
   "metadata": {},
   "outputs": [],
   "source": [
    "all_data.reset_index()\n",
    "all_data"
   ]
  },
  {
   "cell_type": "code",
   "execution_count": null,
   "metadata": {},
   "outputs": [],
   "source": [
    "all_data_random_sample = all_data.sample(frac=.10)\n",
    "all_data_random_sample"
   ]
  },
  {
   "cell_type": "code",
   "execution_count": null,
   "metadata": {},
   "outputs": [],
   "source": [
    "plt.rcParams['figure.figsize'] = 5,5\n",
    "\n",
    "ax = sns.heatmap(data=processed_data.pivot(index=SOURCE_FREQUENCY, columns=TARGET_FREQUENCY, values=\"valids\"), vmin=0, square=True, cmap=\"viridis\", linecolor=\"black\", linewidths=0.5)\n",
    "ax.invert_yaxis()\n",
    "savefig(f\"{folder}/ftalat_valids\")"
   ]
  },
  {
   "cell_type": "code",
   "execution_count": null,
   "metadata": {},
   "outputs": [],
   "source": [
    "plt.rcParams['figure.figsize'] = 5,5\n",
    "\n",
    "ax = sns.heatmap(data=processed_data.pivot(index=SOURCE_FREQUENCY, columns=TARGET_FREQUENCY, values=\"median\"), vmin=0, square=True, cmap=\"viridis\", linecolor=\"black\", linewidths=0.5)\n",
    "ax.invert_yaxis()\n",
    "savefig(f\"{folder}/ftalat_median\")"
   ]
  },
  {
   "cell_type": "code",
   "execution_count": null,
   "metadata": {},
   "outputs": [],
   "source": [
    "plt.rcParams['figure.figsize'] = 5,5\n",
    "\n",
    "ax = sns.heatmap(data=processed_data.pivot(index=SOURCE_FREQUENCY, columns=TARGET_FREQUENCY, values=\"1percentQuantile\"), vmin=0, square=True, cmap=\"viridis\", linecolor=\"black\", linewidths=0.5)\n",
    "ax.invert_yaxis()\n",
    "savefig(f\"{folder}/ftalat_1percentQuantile\")"
   ]
  },
  {
   "cell_type": "code",
   "execution_count": null,
   "metadata": {},
   "outputs": [],
   "source": [
    "plt.rcParams['figure.figsize'] = 5,5\n",
    "\n",
    "ax = sns.heatmap(data=processed_data.pivot(index=SOURCE_FREQUENCY, columns=TARGET_FREQUENCY, values=\"99percentQuantile\"), vmin=0, square=True, cmap=\"viridis\", linecolor=\"black\", linewidths=0.5)\n",
    "ax.invert_yaxis()\n",
    "savefig(f\"{folder}/ftalat_99percentQuantile\")"
   ]
  },
  {
   "cell_type": "code",
   "execution_count": null,
   "metadata": {},
   "outputs": [],
   "source": [
    "row_order = list(reversed(sorted(all_data[SOURCE_FREQUENCY].unique())))\n",
    "col_order = sorted(list(all_data[TARGET_FREQUENCY].unique()))\n",
    "print(row_order, col_order)"
   ]
  },
  {
   "cell_type": "code",
   "execution_count": null,
   "metadata": {},
   "outputs": [],
   "source": [
    "g = sns.FacetGrid(all_data_random_sample, col=TARGET_FREQUENCY,  row=SOURCE_FREQUENCY, height=5, row_order=row_order, col_order=col_order)\n",
    "g.map(sns.scatterplot, WAIT_LATENCY, TRANSITION_LATENCY)\n",
    "g.add_legend()\n",
    "savefig(f\"{folder}/ftalat_scatter_wait_transition_latency\")"
   ]
  },
  {
   "cell_type": "code",
   "execution_count": null,
   "metadata": {},
   "outputs": [],
   "source": [
    "g = sns.FacetGrid(all_data_random_sample, col=TARGET_FREQUENCY, row=SOURCE_FREQUENCY, height=5, row_order=row_order, col_order=col_order)\n",
    "g.map(sns.histplot, TRANSITION_LATENCY, binwidth=10)\n",
    "g.add_legend()\n",
    "savefig(f\"{folder}/ftalat_distribution_transition_latency\")"
   ]
  }
 ],
 "metadata": {
  "kernelspec": {
   "display_name": ".venv",
   "language": "python",
   "name": "python3"
  },
  "language_info": {
   "codemirror_mode": {
    "name": "ipython",
    "version": 3
   },
   "file_extension": ".py",
   "mimetype": "text/x-python",
   "name": "python",
   "nbconvert_exporter": "python",
   "pygments_lexer": "ipython3",
   "version": "3.12.3"
  }
 },
 "nbformat": 4,
 "nbformat_minor": 4
}
